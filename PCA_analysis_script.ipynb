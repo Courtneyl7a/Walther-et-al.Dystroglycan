{
 "cells": [
  {
   "cell_type": "code",
   "execution_count": 2,
   "id": "77b7ac96",
   "metadata": {},
   "outputs": [],
   "source": [
    "#Import packages\n",
    "import pandas as pd \n",
    "import numpy as np \n",
    "import matplotlib.pyplot as plt \n",
    "import seaborn as sns\n",
    "import os\n",
    "from scipy import stats\n",
    "import scipy as sp\n"
   ]
  },
  {
   "cell_type": "code",
   "execution_count": null,
   "id": "9886ef18",
   "metadata": {},
   "outputs": [],
   "source": [
    "#Import Dataset - Make sure wordking directory is in the right place\n",
    "#Set working directory and print it\n",
    "folder_directory= 'folder/here'\n",
    "\n",
    "os.chdir(folder_directory)\n",
    "print(os.getcwd())"
   ]
  },
  {
   "cell_type": "code",
   "execution_count": null,
   "id": "3c7449a6",
   "metadata": {},
   "outputs": [],
   "source": [
    "#Read in the dataframes\n",
    "\n",
    "data= #insert data file name here with .csv at the end, wrapped around '' e.g. 'student1.csv'\n",
    "\n",
    "data_frame=pd.read_csv(data)\n"
   ]
  },
  {
   "cell_type": "code",
   "execution_count": null,
   "id": "e42b5275",
   "metadata": {},
   "outputs": [],
   "source": [
    "#Remove NA values from data set so they don't impact later analysis\n",
    "\n",
    "data_frame_reduced=data_frame.dropna()\n",
    "\n",
    "#check the dataframe so nothing crazy has happened \n",
    "\n",
    "data_frame_reduced.info()\n"
   ]
  },
  {
   "cell_type": "markdown",
   "id": "24f96595",
   "metadata": {},
   "source": [
    "Step 1: Standardisation or scaling the data\n",
    "This is to enable analysis on parameters that have very different values e.g. Aspect ratio is 0-1 and area might be 100. \n",
    "Essentially you want to standardise the range of the continuous initial variables so that each of them contributes equally to the analysis. \n",
    "if there are large differences between the ranges of initial variables, those variables with larger ranges will dominate over those with small ranges."
   ]
  },
  {
   "cell_type": "code",
   "execution_count": null,
   "id": "b723c5de",
   "metadata": {},
   "outputs": [],
   "source": [
    "#PCA analysis to reduce the dimentions of the data to be ploted in 2D\n",
    "\n",
    "from sklearn.preprocessing import StandardScaler\n",
    "\n",
    "#Include the features in your analysis\n",
    "\n",
    "features=['extent','major_axis_length','minor_axis_length','eccentricity',\n",
    "         'roundness','circularity','area','cell_shape_index','perimeter']\n",
    "\n",
    "# Separating out the features\n",
    "x = data_frame_reduced.loc[:, features].values\n",
    "\n",
    "# Separating out the target\n",
    "y = data_frame_reduced.loc[:,['cell_type']].values\n",
    "\n",
    "# Standardizing the features\n",
    "x = StandardScaler().fit_transform(x)\n"
   ]
  },
  {
   "cell_type": "markdown",
   "id": "088d3bda",
   "metadata": {},
   "source": [
    "Step 2: Covariance matrix computation\n",
    "The aim of this step is to understand how the variables of the input data are varying from the mean with respect to each other. In other words to see if there is a relationship between them. \n",
    "Sometimes variables are highly correlated with each other in such as way that they contain redundant information. \n",
    "So in order to identify such correlations we compute the covariance matrix\n",
    "\n",
    "The covariance matrix is a p × p symmetric matrix (where p is the number of dimensions) that has as entries the covariances associated with all possible pairs of the initial variables. For example, for a 3-dimensional data set with 3 variables x, y, and z, the covariance matrix is a 3×3 matrix of this from:\n",
    "\n",
    "What do the covariance in the matrix tell us about the variables?\n",
    "If positive then: the two variables increase or decrease together (correlated)\n",
    "If negative then: one increases when the other decreases (Inversely correlated)"
   ]
  },
  {
   "cell_type": "code",
   "execution_count": null,
   "id": "2ae5cdf6",
   "metadata": {},
   "outputs": [],
   "source": [
    "from sklearn.decomposition import PCA\n",
    "\n",
    "pca = PCA(n_components=2) #Select number of compotents, 2 will give PC1 and PC2\n",
    "principalComponents = pca.fit_transform(x)\n",
    "principalDf = pd.DataFrame(data = principalComponents\n",
    "             , columns = ['principal component 1', 'principal component 2'])"
   ]
  },
  {
   "cell_type": "code",
   "execution_count": null,
   "id": "32519fc2",
   "metadata": {},
   "outputs": [],
   "source": [
    "data_frame_reduced= data_frame_reduced.reset_index()\n",
    "\n",
    "finalDf = pd.concat([principalDf, data_frame_reduced[['cell_type']]], axis = 1)\n",
    "\n",
    "#Check the dataframe\n",
    "print(principalDf)\n",
    "\n",
    "print(finalDf)  "
   ]
  },
  {
   "cell_type": "code",
   "execution_count": null,
   "id": "9444246c",
   "metadata": {},
   "outputs": [],
   "source": [
    "#plot the results\n",
    "\n",
    "fig = plt.figure(figsize = (8,8))  #set figure size\n",
    "ax = fig.add_subplot(1,1,1)  #one plot \n",
    "\n",
    "ax.tick_params(width=3)   #width of the axis ticks\n",
    "\n",
    "for axis in ['top','bottom','left','right']:   #loop to set all axes widths\n",
    "    ax.spines[axis].set_linewidth(3)\n",
    "    \n",
    "ax.set_xlabel('PC1', fontsize = 15, fontname=\"Helvetica\")  #x and y labels\n",
    "ax.set_ylabel('PC2', fontsize = 15, fontname=\"Helvetica\")\n",
    "targets = ['secondary', 'tertiary']   \n",
    "colors = ['m', 'g', 'b']\n",
    "for target, color in zip(targets,colors):\n",
    "    indicesToKeep = finalDf['cell_type'] == target\n",
    "    ax.scatter(finalDf.loc[indicesToKeep, 'principal component 1']\n",
    "               , finalDf.loc[indicesToKeep, 'principal component 2']\n",
    "               , c = color\n",
    "               , s = 60)\n",
    "    \n",
    "ax.legend(targets, fontsize=15)\n",
    "\n",
    "sns.despine()\n",
    "plt.yticks(fontsize=15)\n",
    "plt.xticks(fontsize=15)\n",
    "\n",
    "\n",
    "\n",
    "#plt.savefig('name.png', dpi=500)   #Take away the first hash to save and replace 'name' with something meaningful"
   ]
  },
  {
   "cell_type": "code",
   "execution_count": null,
   "id": "d76771d8",
   "metadata": {},
   "outputs": [],
   "source": [
    "#This is retrieving all of the parameter contributions to the analysis i.e. the eigenvectors and values from the covariecne matrix\n",
    "\n",
    "pca_out = PCA().fit(x)\n",
    "\n",
    "loadings = pca_out.components_\n",
    "num_pc = pca_out.n_features_\n",
    "pc_list = [\"PC\"+str(i) for i in list(range(1, num_pc+1))]\n",
    "loadings_df = pd.DataFrame.from_dict(dict(zip(pc_list, loadings)))\n",
    "loadings_df['variable'] = features\n",
    "loadings_df = loadings_df.set_index('variable')\n",
    "loadings_df\n",
    "\n",
    "#display the results as a heatmap\n",
    "\n",
    "ax = sns.heatmap(loadings_df, annot=True, cmap='Spectral')\n",
    "plt.show()"
   ]
  },
  {
   "cell_type": "code",
   "execution_count": null,
   "id": "bcc4a331",
   "metadata": {},
   "outputs": [],
   "source": [
    "from mlxtend.plotting import plot_pca_correlation_graph  #import the package for the correlation circle plotting\n",
    "\n",
    "feature, correlatoin_matrix = plot_pca_correlation_graph(x,\n",
    "                                                        features,\n",
    "                                                        dimensions=(1, 2),\n",
    "                                                        figure_axis_size=10)\n",
    "\n",
    "plt.xlabel('PC1')\n",
    "plt.ylabel('PC2')\n",
    "plt.title('title', fontsize=20)\n",
    "\n",
    "#plt.savefig('name.png', dpi=500)"
   ]
  }
 ],
 "metadata": {
  "kernelspec": {
   "display_name": "Python 3 (ipykernel)",
   "language": "python",
   "name": "python3"
  },
  "language_info": {
   "codemirror_mode": {
    "name": "ipython",
    "version": 3
   },
   "file_extension": ".py",
   "mimetype": "text/x-python",
   "name": "python",
   "nbconvert_exporter": "python",
   "pygments_lexer": "ipython3",
   "version": "3.9.7"
  }
 },
 "nbformat": 4,
 "nbformat_minor": 5
}
